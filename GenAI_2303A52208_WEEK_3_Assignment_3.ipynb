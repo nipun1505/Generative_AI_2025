{
  "nbformat": 4,
  "nbformat_minor": 0,
  "metadata": {
    "colab": {
      "provenance": [],
      "authorship_tag": "ABX9TyMoa++G8zkWQm54ZlOKScTE",
      "include_colab_link": true
    },
    "kernelspec": {
      "name": "python3",
      "display_name": "Python 3"
    },
    "language_info": {
      "name": "python"
    }
  },
  "cells": [
    {
      "cell_type": "markdown",
      "metadata": {
        "id": "view-in-github",
        "colab_type": "text"
      },
      "source": [
        "<a href=\"https://colab.research.google.com/github/nipun1505/Generative_AI_2025/blob/main/GenAI_2303A52208_WEEK_3_Assignment_3.ipynb\" target=\"_parent\"><img src=\"https://colab.research.google.com/assets/colab-badge.svg\" alt=\"Open In Colab\"/></a>"
      ]
    },
    {
      "cell_type": "code",
      "execution_count": null,
      "metadata": {
        "colab": {
          "base_uri": "https://localhost:8080/"
        },
        "id": "Xa_QwBqhPCQP",
        "outputId": "ee9a54f5-9e9a-487d-a902-1248608ee91b"
      },
      "outputs": [
        {
          "output_type": "stream",
          "name": "stdout",
          "text": [
            "Minimum value of x for f(x): 0.0\n"
          ]
        }
      ],
      "source": [
        "# 1\n",
        "def gradient_descent(f_prime, x0, learning_rate=0.01, tolerance=1e-6, max_iter=1000):\n",
        "    x = x0\n",
        "    for i in range(max_iter):\n",
        "        grad = f_prime(x)\n",
        "        new_x = x - learning_rate * grad\n",
        "        if abs(new_x - x) < tolerance:\n",
        "            break\n",
        "        x = new_x\n",
        "    return x\n",
        "\n",
        "def f_prime(x):\n",
        "    return 20 * x**3 + 6 * x\n",
        "\n",
        "x0 = 0.0\n",
        "min_x = gradient_descent(f_prime, x0)\n",
        "print(f\"Minimum value of x for f(x): {min_x}\")"
      ]
    },
    {
      "cell_type": "code",
      "source": [
        "# 2\n",
        "def gradient_descent_multi(f_prime_x, f_prime_y, x0, y0, learning_rate=0.01, tolerance=1e-6, max_iter=1000):\n",
        "    x, y = x0, y0\n",
        "    for i in range(max_iter):\n",
        "        grad_x = f_prime_x(x)\n",
        "        grad_y = f_prime_y(y)\n",
        "        new_x = x - learning_rate * grad_x\n",
        "        new_y = y - learning_rate * grad_y\n",
        "        if abs(new_x - x) < tolerance and abs(new_y - y) < tolerance:\n",
        "            break\n",
        "        x, y = new_x, new_y\n",
        "    return x, y\n",
        "\n",
        "def f_prime_x(x):\n",
        "    return 6 * x\n",
        "\n",
        "def f_prime_y(y):\n",
        "    return -5 * (2.71828 ** (-y))\n",
        "\n",
        "x0, y0 = 0.0, 0.0\n",
        "min_x, min_y = gradient_descent_multi(f_prime_x, f_prime_y, x0, y0)\n",
        "print(f\"Minimum value of x and y for g(x, y): {min_x}, {min_y}\")"
      ],
      "metadata": {
        "colab": {
          "base_uri": "https://localhost:8080/"
        },
        "id": "C920cv1zXv-q",
        "outputId": "4e6d6833-0601-48b1-e793-a47d41747df9"
      },
      "execution_count": null,
      "outputs": [
        {
          "output_type": "stream",
          "name": "stdout",
          "text": [
            "Minimum value of x and y for g(x, y): 0.0, 3.933762227862872\n"
          ]
        }
      ]
    },
    {
      "cell_type": "code",
      "source": [
        "# 3\n",
        "def sigmoid_derivative(x):\n",
        "    sig = 1 / (1 + 2.71828**(-x))\n",
        "    return sig * (1 - sig)\n",
        "\n",
        "min_x_sigmoid = gradient_descent(sigmoid_derivative, 0.0)\n",
        "print(f\"Minimum value of x for sigmoid function: {min_x_sigmoid}\")\n"
      ],
      "metadata": {
        "colab": {
          "base_uri": "https://localhost:8080/"
        },
        "id": "Egb6moJuX5QD",
        "outputId": "457cd073-38f4-4107-fda6-cfc296951416"
      },
      "execution_count": null,
      "outputs": [
        {
          "output_type": "stream",
          "name": "stdout",
          "text": [
            "Minimum value of x for sigmoid function: -1.8618359316575634\n"
          ]
        }
      ]
    },
    {
      "cell_type": "code",
      "source": [
        "# 4\n",
        "def gradient_descent_linear(f_prime_m, f_prime_c, m0, c0, learning_rate=0.01, tolerance=1e-6, max_iter=1000):\n",
        "    m, c = m0, c0\n",
        "    for i in range(max_iter):\n",
        "        grad_m = f_prime_m(m, c)\n",
        "        grad_c = f_prime_c(m, c)\n",
        "        new_m = m - learning_rate * grad_m\n",
        "        new_c = c - learning_rate * grad_c\n",
        "        if abs(new_m - m) < tolerance and abs(new_c - c) < tolerance:\n",
        "            break\n",
        "        m, c = new_m, new_c\n",
        "    return m, c\n",
        "\n",
        "def f_prime_m(m, c):\n",
        "    x, y = 1, 2\n",
        "    return -2 * x * (y - (m * x + c))\n",
        "\n",
        "def f_prime_c(m, c):\n",
        "    x, y = 1, 2\n",
        "    return -2 * (y - (m * x + c))\n",
        "\n",
        "m0, c0 = 0.0, 0.0\n",
        "min_m, min_c = gradient_descent_linear(f_prime_m, f_prime_c, m0, c0)\n",
        "print(f\"Optimal values of M and C: {min_m}, {min_c}\")"
      ],
      "metadata": {
        "colab": {
          "base_uri": "https://localhost:8080/"
        },
        "id": "yJiYhWDmX_sI",
        "outputId": "314922a1-30a3-454d-c690-f52c6728793f"
      },
      "execution_count": null,
      "outputs": [
        {
          "output_type": "stream",
          "name": "stdout",
          "text": [
            "Optimal values of M and C: 0.9999754234685202, 0.9999754234685202\n"
          ]
        }
      ]
    }
  ]
}