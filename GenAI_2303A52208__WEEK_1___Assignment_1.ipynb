{
  "nbformat": 4,
  "nbformat_minor": 0,
  "metadata": {
    "colab": {
      "provenance": [],
      "authorship_tag": "ABX9TyMMGhs7vJmOCBcVbATlGQqS",
      "include_colab_link": true
    },
    "kernelspec": {
      "name": "python3",
      "display_name": "Python 3"
    },
    "language_info": {
      "name": "python"
    }
  },
  "cells": [
    {
      "cell_type": "markdown",
      "metadata": {
        "id": "view-in-github",
        "colab_type": "text"
      },
      "source": [
        "<a href=\"https://colab.research.google.com/github/nipun1505/Generative_AI_2025/blob/main/GenAI_2303A52208__WEEK_1___Assignment_1.ipynb\" target=\"_parent\"><img src=\"https://colab.research.google.com/assets/colab-badge.svg\" alt=\"Open In Colab\"/></a>"
      ]
    },
    {
      "cell_type": "code",
      "execution_count": 16,
      "metadata": {
        "colab": {
          "base_uri": "https://localhost:8080/"
        },
        "id": "JoekMCi3LlHI",
        "outputId": "b2a8202c-8dde-4e8a-c29f-95b701bbf789"
      },
      "outputs": [
        {
          "output_type": "stream",
          "name": "stdout",
          "text": [
            "[20, 30, 40, 50, 60]\n",
            "[20.5, 30.3, 40.2, 50.6, 60.7]\n"
          ]
        }
      ],
      "source": [
        "# Questions:-1\n",
        "\n",
        "import pandas as pd\n",
        "import numpy as np\n",
        "import matplotlib.pyplot as plt\n",
        "y=[20,30,40,50,60]\n",
        "yp=[20.5,30.3,40.2,50.6,60.7]\n",
        "print(y)\n",
        "print(yp)"
      ]
    },
    {
      "cell_type": "code",
      "source": [
        "from sklearn.metrics import mean_squared_error\n",
        "import matplotlib.pyplot as plt\n",
        "mse=mean_squared_error(y,yp)\n",
        "mse"
      ],
      "metadata": {
        "colab": {
          "base_uri": "https://localhost:8080/"
        },
        "id": "CAHzHAQRYfND",
        "outputId": "9b66af33-d027-4f3e-ba7f-f5a99730a824"
      },
      "execution_count": 17,
      "outputs": [
        {
          "output_type": "execute_result",
          "data": {
            "text/plain": [
              "0.24600000000000147"
            ]
          },
          "metadata": {},
          "execution_count": 17
        }
      ]
    },
    {
      "cell_type": "code",
      "source": [
        "from sklearn.metrics import mean_absolute_error\n",
        "mae=mean_absolute_error(y,yp)\n",
        "mae"
      ],
      "metadata": {
        "colab": {
          "base_uri": "https://localhost:8080/"
        },
        "id": "4CIBxP5DYtxW",
        "outputId": "12945446-eccc-4b50-c561-9ab44fd300fa"
      },
      "execution_count": 18,
      "outputs": [
        {
          "output_type": "execute_result",
          "data": {
            "text/plain": [
              "0.4600000000000016"
            ]
          },
          "metadata": {},
          "execution_count": 18
        }
      ]
    },
    {
      "cell_type": "code",
      "source": [
        "from sklearn .metrics import root_mean_squared_error\n",
        "rmse=root_mean_squared_error(y,yp)\n",
        "rmse"
      ],
      "metadata": {
        "colab": {
          "base_uri": "https://localhost:8080/"
        },
        "id": "LXdp69XOY5Jo",
        "outputId": "7fe6bd5b-5d29-494e-9d1b-b8d8776915fe"
      },
      "execution_count": 19,
      "outputs": [
        {
          "output_type": "execute_result",
          "data": {
            "text/plain": [
              "0.49598387070549127"
            ]
          },
          "metadata": {},
          "execution_count": 19
        }
      ]
    },
    {
      "cell_type": "code",
      "source": [
        "y = np.array(y)\n",
        "yp = np.array(yp)\n",
        "mse=(y-yp)**2\n",
        "print(mse)"
      ],
      "metadata": {
        "colab": {
          "base_uri": "https://localhost:8080/"
        },
        "id": "ty6M57b9Y9BH",
        "outputId": "17e9e6b8-80c8-4fbb-f70a-40c182353b2f"
      },
      "execution_count": 23,
      "outputs": [
        {
          "output_type": "stream",
          "name": "stdout",
          "text": [
            "[0.25 0.09 0.04 0.36 0.49]\n"
          ]
        }
      ]
    },
    {
      "cell_type": "code",
      "source": [
        "y = np.array([20, 30, 40, 50, 60])\n",
        "yp = np.array([20.5, 30.3, 40.2, 50.6, 60.7])\n",
        "mean=np.mean(y)\n",
        "mean=np.mean(yp)\n",
        "print(mean)\n",
        "squared_errors = (y - yp) ** 2\n",
        "mse = np.mean(squared_errors)\n",
        "mse"
      ],
      "metadata": {
        "colab": {
          "base_uri": "https://localhost:8080/"
        },
        "id": "1qQCekryY9zq",
        "outputId": "218dce31-e88e-41bb-e614-50d58a3bda72"
      },
      "execution_count": 24,
      "outputs": [
        {
          "output_type": "stream",
          "name": "stdout",
          "text": [
            "40.46\n"
          ]
        },
        {
          "output_type": "execute_result",
          "data": {
            "text/plain": [
              "0.24600000000000147"
            ]
          },
          "metadata": {},
          "execution_count": 24
        }
      ]
    },
    {
      "cell_type": "code",
      "source": [
        "# Questions:-2\n",
        "\n",
        "import numpy as np\n",
        "y = np.array([20, 30, 40, 50, 60])\n",
        "yp = np.array([20.5, 30.3, 40.2, 50.6, 60.7])\n",
        "mean = np.mean(y)\n",
        "mean = np.mean(yp)\n",
        "absolute_errors = np.abs(y - yp)\n",
        "mae = np.mean(absolute_errors)\n",
        "mae"
      ],
      "metadata": {
        "colab": {
          "base_uri": "https://localhost:8080/"
        },
        "id": "9kDpH8wkY9ph",
        "outputId": "e193e67b-4dc5-4a7f-d1e2-bbd1bb5c2158"
      },
      "execution_count": 25,
      "outputs": [
        {
          "output_type": "execute_result",
          "data": {
            "text/plain": [
              "0.4600000000000016"
            ]
          },
          "metadata": {},
          "execution_count": 25
        }
      ]
    },
    {
      "cell_type": "code",
      "source": [
        "import numpy as np\n",
        "y = np.array([20, 30, 40, 50, 60])\n",
        "yp = np.array([20.5, 30.3, 40.2, 50.6, 60.7])\n",
        "mean = np.mean(y)\n",
        "mean = np.mean(yp)\n",
        "rmse = np.sqrt(mean_squared_error(y, yp))\n",
        "rmse"
      ],
      "metadata": {
        "colab": {
          "base_uri": "https://localhost:8080/"
        },
        "id": "k3CceRrIY9eT",
        "outputId": "e6b407db-5d09-4e3c-e6cd-f65f4a62a33d"
      },
      "execution_count": 26,
      "outputs": [
        {
          "output_type": "execute_result",
          "data": {
            "text/plain": [
              "0.49598387070549127"
            ]
          },
          "metadata": {},
          "execution_count": 26
        }
      ]
    },
    {
      "cell_type": "code",
      "source": [
        "import numpy as np\n",
        "from sklearn.metrics import classification_report, accuracy_score, precision_score, recall_score, f1_score\n",
        "Y_actual = np.array([0, 0, 1, 1, 2, 0, 0, 0, 1, 0, 2, 0, 0, 1, 1, 2, 2, 1, 0, 2, 1, 0, 2, 2, 0])\n",
        "Y_pred = np.array([0, 0, 1, 0, 2, 0, 0, 1, 1, 2, 2, 1, 0, 2, 1, 2, 2, 2, 0, 2, 1, 2, 2, 2, 2])\n",
        "accuracy_scratch = sum(Y_actual == Y_pred) / len(Y_actual)\n",
        "classes = set(Y_actual)\n",
        "precision_scratch = []\n",
        "recall_scratch = []\n",
        "f1_scratch = []\n",
        "for cls in classes:\n",
        "    tp = sum((Y_actual == cls) & (Y_pred == cls))\n",
        "    fp = sum((Y_actual != cls) & (Y_pred == cls))\n",
        "    fn = sum((Y_actual == cls) & (Y_pred != cls))\n",
        "    precision = tp / (tp + fp) if tp + fp > 0 else 0\n",
        "    recall = tp / (tp + fn) if tp + fn > 0 else 0\n",
        "    f1 = 2 * precision * recall / (precision + recall) if precision + recall > 0 else 0\n",
        "\n",
        "    precision_scratch.append(precision)\n",
        "    recall_scratch.append(recall)\n",
        "    f1_scratch.append(f1)\n",
        "precision_macro = sum(precision_scratch) / len(classes)\n",
        "recall_macro = sum(recall_scratch) / len(classes)\n",
        "f1_macro = sum(f1_scratch) / len(classes)\n",
        "accuracy_library = accuracy_score(Y_actual, Y_pred)\n",
        "precision_library = precision_score(Y_actual, Y_pred, average='macro')\n",
        "recall_library = recall_score(Y_actual, Y_pred, average='macro')\n",
        "f1_library = f1_score(Y_actual, Y_pred, average='macro')\n",
        "print(\"Evaluation Metrics from Scratch:\")\n",
        "print(f\"Accuracy: {accuracy_scratch}\")\n",
        "print(f\"Precision: {precision_macro}\")\n",
        "print(f\"Recall: {recall_macro}\")\n",
        "print(f\"F1-Score: {f1_macro}\")\n",
        "\n",
        "print(\"\\nEvaluation Metrics from Libraries:\")\n",
        "print(f\"Accuracy: {accuracy_library}\")\n",
        "print(f\"Precision: {precision_library}\")\n",
        "print(f\"Recall: {recall_library}\")\n",
        "print(f\"F1-Score: {f1_library}\")"
      ],
      "metadata": {
        "colab": {
          "base_uri": "https://localhost:8080/"
        },
        "id": "QmHr8P3EZRAF",
        "outputId": "3909e728-eb5f-4acb-e423-08eee6f23087"
      },
      "execution_count": 29,
      "outputs": [
        {
          "output_type": "stream",
          "name": "stdout",
          "text": [
            "Evaluation Metrics from Scratch:\n",
            "Accuracy: 0.68\n",
            "Precision: 0.7023809523809524\n",
            "Recall: 0.7056277056277057\n",
            "F1-Score: 0.6729644624381467\n",
            "\n",
            "Evaluation Metrics from Libraries:\n",
            "Accuracy: 0.68\n",
            "Precision: 0.7023809523809524\n",
            "Recall: 0.7056277056277057\n",
            "F1-Score: 0.6729644624381467\n"
          ]
        }
      ]
    },
    {
      "cell_type": "code",
      "source": [],
      "metadata": {
        "id": "rDw_tiBQZsNM"
      },
      "execution_count": 27,
      "outputs": []
    }
  ]
}