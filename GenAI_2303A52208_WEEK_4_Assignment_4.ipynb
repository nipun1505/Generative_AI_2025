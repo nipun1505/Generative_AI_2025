{
  "nbformat": 4,
  "nbformat_minor": 0,
  "metadata": {
    "colab": {
      "provenance": [],
      "authorship_tag": "ABX9TyNjRrB/o0SeA+GFvUOGLTnk",
      "include_colab_link": true
    },
    "kernelspec": {
      "name": "python3",
      "display_name": "Python 3"
    },
    "language_info": {
      "name": "python"
    }
  },
  "cells": [
    {
      "cell_type": "markdown",
      "metadata": {
        "id": "view-in-github",
        "colab_type": "text"
      },
      "source": [
        "<a href=\"https://colab.research.google.com/github/nipun1505/Generative_AI_2025/blob/main/GenAI_2303A52208_WEEK_4_Assignment_4.ipynb\" target=\"_parent\"><img src=\"https://colab.research.google.com/assets/colab-badge.svg\" alt=\"Open In Colab\"/></a>"
      ]
    },
    {
      "cell_type": "code",
      "source": [
        "# 1\n",
        "import numpy as np\n",
        "X_train = np.array([\n",
        "    [0.1, 0.2, 0.3],\n",
        "    [0.2, 0.3, 0.4],\n",
        "    [0.3, 0.4, 0.5],\n",
        "    [0.5, 0.6, 0.7],\n",
        "    [0.1, 0.3, 0.5],\n",
        "    [0.2, 0.4, 0.6],\n",
        "    [0.3, 0.5, 0.7],\n",
        "    [0.4, 0.6, 0.8],\n",
        "    [0.5, 0.7, 0.1]\n",
        "])\n",
        "\n",
        "y_train = np.array([0.14, 0.20, 0.26, 0.38, 0.22, 0.28, 0.34, 0.40, 0.22])"
      ],
      "metadata": {
        "id": "VUZ0JlIvkT4K"
      },
      "execution_count": 22,
      "outputs": []
    },
    {
      "cell_type": "code",
      "source": [
        "X_test = np.array([\n",
        "    [0.6, 0.7, 0.8],\n",
        "    [0.7, 0.8, 0.9]\n",
        "])\n",
        "\n",
        "y_test = np.array([0.44, 0.50])"
      ],
      "metadata": {
        "id": "A6oNytYWk4m-"
      },
      "execution_count": 23,
      "outputs": []
    },
    {
      "cell_type": "code",
      "source": [
        "np.random.seed(42)\n",
        "weights = np.random.rand(3)\n",
        "bias = np.random.rand(1)"
      ],
      "metadata": {
        "id": "-0L5DbVmk-AW"
      },
      "execution_count": 24,
      "outputs": []
    },
    {
      "cell_type": "code",
      "source": [
        "learning_rate = 0.01\n",
        "epochs = 100"
      ],
      "metadata": {
        "id": "jXGOKzw6mE5_"
      },
      "execution_count": 25,
      "outputs": []
    },
    {
      "cell_type": "code",
      "source": [
        "for epoch in range(epochs):\n",
        "    y_pred = np.dot(X_train, weights) + bias\n",
        "    error = y_pred - y_train"
      ],
      "metadata": {
        "id": "7tkcEMsPmNNl"
      },
      "execution_count": 26,
      "outputs": []
    },
    {
      "cell_type": "code",
      "source": [
        "dW = np.dot(X_train.T, error) / len(X_train)\n",
        "dB = np.sum(error) / len(X_train)"
      ],
      "metadata": {
        "id": "znwpPresmUgu"
      },
      "execution_count": 27,
      "outputs": []
    },
    {
      "cell_type": "code",
      "source": [
        "weights -= learning_rate * dW\n",
        "bias -= learning_rate * dB"
      ],
      "metadata": {
        "id": "jb8jzQtimfzo"
      },
      "execution_count": 28,
      "outputs": []
    },
    {
      "cell_type": "code",
      "source": [
        "if epoch % 100 == 0:\n",
        "  mse = np.mean(error ** 2)\n",
        "  print(f\"Epoch {epoch}: MSE = {mse:.6f}\")"
      ],
      "metadata": {
        "id": "u6OG8dQhmfuz"
      },
      "execution_count": 29,
      "outputs": []
    },
    {
      "cell_type": "code",
      "source": [
        "def mean_squared_error(X, y):\n",
        "    y_pred = np.dot(X, weights) + bias\n",
        "    return np.mean((y_pred - y) ** 2)\n",
        "\n",
        "train_mse = mean_squared_error(X_train, y_train)\n",
        "test_mse = mean_squared_error(X_test, y_test)\n",
        "\n",
        "print(f\"Final Training MSE: {train_mse:.6f}\")\n",
        "print(f\"Final Test MSE: {test_mse:.6f}\")"
      ],
      "metadata": {
        "colab": {
          "base_uri": "https://localhost:8080/"
        },
        "id": "WpnYjRMfmfbZ",
        "outputId": "dddd7d83-0820-4761-d37d-9638ae9bf89e"
      },
      "execution_count": 30,
      "outputs": [
        {
          "output_type": "stream",
          "name": "stdout",
          "text": [
            "Final Training MSE: 1.507408\n",
            "Final Test MSE: 2.836631\n"
          ]
        }
      ]
    },
    {
      "cell_type": "code",
      "source": [
        "user_input = np.array(list(map(float, input(\"Enter x1, x2, x3: \").split())))\n",
        "predicted_output = np.dot(user_input, weights) + bias\n",
        "print(f\"Predicted Output: {predicted_output[0]:.6f}\")"
      ],
      "metadata": {
        "colab": {
          "base_uri": "https://localhost:8080/"
        },
        "id": "rRYpp_TJm52S",
        "outputId": "30410aed-ecfb-4b41-9b84-a718468488dc"
      },
      "execution_count": 31,
      "outputs": [
        {
          "output_type": "stream",
          "name": "stdout",
          "text": [
            "Enter x1, x2, x3: 0.1 0.2 0.3\n",
            "Predicted Output: 1.030041\n"
          ]
        }
      ]
    },
    {
      "cell_type": "code",
      "source": [
        "# 2\n",
        "import numpy as np\n",
        "\n",
        "def sigmoid(x):\n",
        "    return 1 / (1 + np.exp(-x))\n",
        "\n",
        "def sigmoid_derivative(x):\n",
        "    return x * (1 - x)\n",
        "\n",
        "def train_ann(X, y, epochs=1000, learning_rate=0.1):\n",
        "    np.random.seed(42)\n",
        "    weights = np.random.rand(X.shape[1])\n",
        "    bias = np.random.rand()\n",
        "\n",
        "    for _ in range(epochs):\n",
        "        linear_output = np.dot(X, weights) + bias\n",
        "        y_pred = sigmoid(linear_output)\n",
        "\n",
        "        error = y - y_pred\n",
        "\n",
        "        d_weights = np.dot(X.T, error * sigmoid_derivative(y_pred)) / X.shape[0]\n",
        "        d_bias = np.sum(error * sigmoid_derivative(y_pred)) / X.shape[0]\n",
        "\n",
        "        weights += learning_rate * d_weights\n",
        "        bias += learning_rate * d_bias\n",
        "\n",
        "    return weights, bias\n",
        "\n",
        "def mean_squared_error(y_true, y_pred):\n",
        "    return np.mean((y_true - y_pred) ** 2)\n",
        "\n",
        "def predict(X, weights, bias):\n",
        "    return sigmoid(np.dot(X, weights) + bias)\n",
        "\n",
        "train_X = np.array([\n",
        "    [0.1, 0.2, 0.3],\n",
        "    [0.2, 0.3, 0.4],\n",
        "    [0.3, 0.4, 0.5],\n",
        "    [0.5, 0.6, 0.7],\n",
        "    [0.1, 0.3, 0.5],\n",
        "    [0.2, 0.4, 0.6],\n",
        "    [0.3, 0.5, 0.7],\n",
        "    [0.4, 0.6, 0.8],\n",
        "    [0.5, 0.7, 0.1]\n",
        "])\n",
        "train_y = np.array([0.5349, 0.5498, 0.5646, 0.5939, 0.5548, 0.5695, 0.5842, 0.5987, 0.5548])\n",
        "\n",
        "weights, bias = train_ann(train_X, train_y)\n",
        "\n",
        "test_X = np.array([\n",
        "    [0.6, 0.7, 0.8],\n",
        "    [0.7, 0.8, 0.9]\n",
        "])\n",
        "test_y = np.array([0.6083, 0.6225])\n",
        "\n",
        "train_predictions = predict(train_X, weights, bias)\n",
        "test_predictions = predict(test_X, weights, bias)\n",
        "\n",
        "train_mse = mean_squared_error(train_y, train_predictions)\n",
        "test_mse = mean_squared_error(test_y, test_predictions)\n",
        "\n",
        "print(f\"Training MSE: {train_mse}\")\n",
        "print(f\"Testing MSE: {test_mse}\")\n",
        "\n",
        "x_input = np.array([float(i) for i in input(\"Enter three values separated by space: \").split()])\n",
        "output = predict(x_input, weights, bias)\n",
        "print(f\"Predicted Output: {output}\")"
      ],
      "metadata": {
        "colab": {
          "base_uri": "https://localhost:8080/"
        },
        "id": "EwXF-h6enxjI",
        "outputId": "0d9ee74d-4b80-4ddb-b918-7ccc41d81e15"
      },
      "execution_count": 32,
      "outputs": [
        {
          "output_type": "stream",
          "name": "stdout",
          "text": [
            "Training MSE: 0.00019827266619758076\n",
            "Testing MSE: 0.0007241244444640872\n",
            "Enter three values separated by space: 0.1 0.2 0.3\n",
            "Predicted Output: 0.5110862963146233\n"
          ]
        }
      ]
    }
  ]
}